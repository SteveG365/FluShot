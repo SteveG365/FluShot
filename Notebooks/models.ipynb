{
 "cells": [
  {
   "cell_type": "code",
   "execution_count": 42,
   "id": "144f61ab",
   "metadata": {},
   "outputs": [],
   "source": [
    "import numpy as np\n",
    "import matplotlib.pyplot as plt\n",
    "import pandas as pd\n",
    "\n",
    "from sklearn.model_selection import train_test_split\n",
    "import xgboost as xgb\n",
    "from sklearn.metrics import classification_report, roc_auc_score, accuracy_score, hamming_loss, f1_score\n"
   ]
  },
  {
   "cell_type": "code",
   "execution_count": 50,
   "id": "7a3613d3",
   "metadata": {},
   "outputs": [
    {
     "name": "stdout",
     "output_type": "stream",
     "text": [
      "Shape of X_train: (26707, 30)\n",
      "Shape of y_train: (26707, 3)\n"
     ]
    }
   ],
   "source": [
    "y = pd.read_csv('../Data/Flu_Shot_Learning_Predict_H1N1_and_Seasonal_Flu_Vaccines_-_Training_Labels.csv')\n",
    "X = pd.read_csv('../Data/X_train_clean.csv')\n",
    "print(f\"Shape of X_train: {X.shape}\")\n",
    "print(f\"Shape of y_train: {y.shape}\")\n",
    "labels = ['h1n1_vaccine', 'seasonal_vaccine']\n",
    "X_train, X_test, y_train, y_test = train_test_split(X, y, test_size=0.3, random_state=42)"
   ]
  },
  {
   "cell_type": "code",
   "execution_count": 51,
   "id": "09c77ec2",
   "metadata": {},
   "outputs": [
    {
     "data": {
      "text/html": [
       "<div>\n",
       "<style scoped>\n",
       "    .dataframe tbody tr th:only-of-type {\n",
       "        vertical-align: middle;\n",
       "    }\n",
       "\n",
       "    .dataframe tbody tr th {\n",
       "        vertical-align: top;\n",
       "    }\n",
       "\n",
       "    .dataframe thead th {\n",
       "        text-align: right;\n",
       "    }\n",
       "</style>\n",
       "<table border=\"1\" class=\"dataframe\">\n",
       "  <thead>\n",
       "    <tr style=\"text-align: right;\">\n",
       "      <th></th>\n",
       "      <th>respondent_id</th>\n",
       "      <th>h1n1_vaccine</th>\n",
       "      <th>seasonal_vaccine</th>\n",
       "    </tr>\n",
       "  </thead>\n",
       "  <tbody>\n",
       "    <tr>\n",
       "      <th>5303</th>\n",
       "      <td>5303</td>\n",
       "      <td>0</td>\n",
       "      <td>1</td>\n",
       "    </tr>\n",
       "    <tr>\n",
       "      <th>2703</th>\n",
       "      <td>2703</td>\n",
       "      <td>0</td>\n",
       "      <td>0</td>\n",
       "    </tr>\n",
       "    <tr>\n",
       "      <th>6586</th>\n",
       "      <td>6586</td>\n",
       "      <td>0</td>\n",
       "      <td>0</td>\n",
       "    </tr>\n",
       "    <tr>\n",
       "      <th>22563</th>\n",
       "      <td>22563</td>\n",
       "      <td>1</td>\n",
       "      <td>1</td>\n",
       "    </tr>\n",
       "    <tr>\n",
       "      <th>2338</th>\n",
       "      <td>2338</td>\n",
       "      <td>1</td>\n",
       "      <td>1</td>\n",
       "    </tr>\n",
       "    <tr>\n",
       "      <th>...</th>\n",
       "      <td>...</td>\n",
       "      <td>...</td>\n",
       "      <td>...</td>\n",
       "    </tr>\n",
       "    <tr>\n",
       "      <th>21575</th>\n",
       "      <td>21575</td>\n",
       "      <td>0</td>\n",
       "      <td>1</td>\n",
       "    </tr>\n",
       "    <tr>\n",
       "      <th>5390</th>\n",
       "      <td>5390</td>\n",
       "      <td>0</td>\n",
       "      <td>0</td>\n",
       "    </tr>\n",
       "    <tr>\n",
       "      <th>860</th>\n",
       "      <td>860</td>\n",
       "      <td>0</td>\n",
       "      <td>0</td>\n",
       "    </tr>\n",
       "    <tr>\n",
       "      <th>15795</th>\n",
       "      <td>15795</td>\n",
       "      <td>0</td>\n",
       "      <td>0</td>\n",
       "    </tr>\n",
       "    <tr>\n",
       "      <th>23654</th>\n",
       "      <td>23654</td>\n",
       "      <td>0</td>\n",
       "      <td>0</td>\n",
       "    </tr>\n",
       "  </tbody>\n",
       "</table>\n",
       "<p>18694 rows × 3 columns</p>\n",
       "</div>"
      ],
      "text/plain": [
       "       respondent_id  h1n1_vaccine  seasonal_vaccine\n",
       "5303            5303             0                 1\n",
       "2703            2703             0                 0\n",
       "6586            6586             0                 0\n",
       "22563          22563             1                 1\n",
       "2338            2338             1                 1\n",
       "...              ...           ...               ...\n",
       "21575          21575             0                 1\n",
       "5390            5390             0                 0\n",
       "860              860             0                 0\n",
       "15795          15795             0                 0\n",
       "23654          23654             0                 0\n",
       "\n",
       "[18694 rows x 3 columns]"
      ]
     },
     "execution_count": 51,
     "metadata": {},
     "output_type": "execute_result"
    }
   ],
   "source": [
    "y_train"
   ]
  },
  {
   "cell_type": "markdown",
   "id": "e9561061",
   "metadata": {},
   "source": [
    "## This problem is a Multi-Label Problem:\n",
    "\n",
    "$$\n",
    "\\mathcal{D} = \\{(\\mathbf{x_i}, \\mathbf{y_i}) \\; \\text{for } i=1 ,2, ..., N\\}\n",
    "$$\n",
    "\n",
    "Where:  $\\mathbf{y_i} \\: \\in \\; \\mathbb{R}^2$"
   ]
  },
  {
   "cell_type": "markdown",
   "id": "b37726f7",
   "metadata": {},
   "source": [
    "# Label Powerset Approach:\n",
    "\n",
    "Treats each combination of labels as it's own distinct label in a multi-class setup:\n",
    "The set of possible labels are therefore:\n",
    "\n",
    "$$\n",
    "\\{ 00, \\; 01, \\; 10, \\; 11 \\}\n",
    "$$\n",
    "\n",
    "Therefore: $y \\in \\{ 1, \\; 2, \\; 3, \\; 4 \\}$ in that order."
   ]
  },
  {
   "cell_type": "code",
   "execution_count": 52,
   "id": "07df935d",
   "metadata": {},
   "outputs": [
    {
     "name": "stdout",
     "output_type": "stream",
     "text": [
      "       respondent_id  h1n1_vaccine  seasonal_vaccine\n",
      "5303            5303             0                 1\n",
      "2703            2703             0                 0\n",
      "6586            6586             0                 0\n",
      "22563          22563             1                 1\n",
      "2338            2338             1                 1\n"
     ]
    }
   ],
   "source": [
    "print(y_train.head())"
   ]
  },
  {
   "cell_type": "code",
   "execution_count": 53,
   "id": "67832898",
   "metadata": {},
   "outputs": [],
   "source": [
    "#Label Powerset model using XGBoost\n",
    "\n",
    "# Vectorized encoding using binary logic\n",
    "y_train_enc =  2 * y_train['h1n1_vaccine'].values + y_train['seasonal_vaccine'].values\n",
    "y_test_enc =  2 * y_test['h1n1_vaccine'].values + y_test['seasonal_vaccine'].values\n",
    "\n",
    "#y_train_enc = y_train_enc.to_numpy() if hasattr(y_train_enc, 'to_numpy') else y_train_enc\n"
   ]
  },
  {
   "cell_type": "code",
   "execution_count": 54,
   "id": "800f7d7c",
   "metadata": {},
   "outputs": [
    {
     "data": {
      "text/plain": [
       "array([1, 0, 0, ..., 0, 0, 0])"
      ]
     },
     "execution_count": 54,
     "metadata": {},
     "output_type": "execute_result"
    }
   ],
   "source": [
    "y_train_enc"
   ]
  },
  {
   "cell_type": "code",
   "execution_count": 55,
   "id": "1b9cc207",
   "metadata": {},
   "outputs": [
    {
     "name": "stderr",
     "output_type": "stream",
     "text": [
      "/opt/anaconda3/lib/python3.12/site-packages/xgboost/training.py:183: UserWarning: [17:29:34] WARNING: /var/folders/k1/30mswbxs7r1g6zwn8y4fyt500000gp/T/abs_abwcuua5oq/croot/xgboost-split_1749630928197/work/src/learner.cc:738: \n",
      "Parameters: { \"use_label_encoder\" } are not used.\n",
      "\n",
      "  bst.update(dtrain, iteration=i, fobj=obj)\n"
     ]
    }
   ],
   "source": [
    "xgb_model = xgb.XGBClassifier(\n",
    "    objective=\"multi:softprob\",\n",
    "    num_class=4,\n",
    "    eval_metric=\"mlogloss\",\n",
    "    use_label_encoder=False\n",
    ")\n",
    "xgb_model.fit(X_train, y_train_enc)\n",
    "\n",
    "y_pred_enc = xgb_model.predict(X_test)"
   ]
  },
  {
   "cell_type": "code",
   "execution_count": 56,
   "id": "3a492ab6",
   "metadata": {},
   "outputs": [],
   "source": [
    "#decode the preds\n",
    "\n",
    "codes = np.array(y_pred_enc) - 1\n",
    "\n",
    "# Recover the original bits\n",
    "h1n1 = (codes // 2) % 2\n",
    "seasonal = codes % 2\n",
    "\n",
    "# Recombine into DataFrame\n",
    "y_pred = pd.DataFrame({'h1n1_vaccine': h1n1, 'seasonal_vaccine': seasonal})"
   ]
  },
  {
   "cell_type": "code",
   "execution_count": 57,
   "id": "80292980",
   "metadata": {},
   "outputs": [
    {
     "data": {
      "text/html": [
       "<div>\n",
       "<style scoped>\n",
       "    .dataframe tbody tr th:only-of-type {\n",
       "        vertical-align: middle;\n",
       "    }\n",
       "\n",
       "    .dataframe tbody tr th {\n",
       "        vertical-align: top;\n",
       "    }\n",
       "\n",
       "    .dataframe thead th {\n",
       "        text-align: right;\n",
       "    }\n",
       "</style>\n",
       "<table border=\"1\" class=\"dataframe\">\n",
       "  <thead>\n",
       "    <tr style=\"text-align: right;\">\n",
       "      <th></th>\n",
       "      <th>h1n1_vaccine</th>\n",
       "      <th>seasonal_vaccine</th>\n",
       "    </tr>\n",
       "  </thead>\n",
       "  <tbody>\n",
       "    <tr>\n",
       "      <th>0</th>\n",
       "      <td>1</td>\n",
       "      <td>1</td>\n",
       "    </tr>\n",
       "    <tr>\n",
       "      <th>1</th>\n",
       "      <td>1</td>\n",
       "      <td>1</td>\n",
       "    </tr>\n",
       "    <tr>\n",
       "      <th>2</th>\n",
       "      <td>0</td>\n",
       "      <td>0</td>\n",
       "    </tr>\n",
       "    <tr>\n",
       "      <th>3</th>\n",
       "      <td>1</td>\n",
       "      <td>1</td>\n",
       "    </tr>\n",
       "    <tr>\n",
       "      <th>4</th>\n",
       "      <td>1</td>\n",
       "      <td>1</td>\n",
       "    </tr>\n",
       "  </tbody>\n",
       "</table>\n",
       "</div>"
      ],
      "text/plain": [
       "   h1n1_vaccine  seasonal_vaccine\n",
       "0             1                 1\n",
       "1             1                 1\n",
       "2             0                 0\n",
       "3             1                 1\n",
       "4             1                 1"
      ]
     },
     "execution_count": 57,
     "metadata": {},
     "output_type": "execute_result"
    }
   ],
   "source": [
    "y_pred.head()"
   ]
  },
  {
   "cell_type": "code",
   "execution_count": 58,
   "id": "0cbdf91c",
   "metadata": {},
   "outputs": [
    {
     "name": "stdout",
     "output_type": "stream",
     "text": [
      "Exact Match Accuracy LPS XGBoost: 0.5935355048046924\n"
     ]
    }
   ],
   "source": [
    "# Exact match accuracy\n",
    "XGB_acc = np.mean(y_test_enc == y_pred_enc)\n",
    "print(f\"Exact Match Accuracy LPS XGBoost: {XGB_acc}\")"
   ]
  },
  {
   "cell_type": "code",
   "execution_count": 60,
   "id": "2da447cb",
   "metadata": {},
   "outputs": [
    {
     "name": "stdout",
     "output_type": "stream",
     "text": [
      "[[[1547 4772]\n",
      "  [ 442 1252]]\n",
      "\n",
      " [[ 864 3478]\n",
      "  [2179 1492]]]\n"
     ]
    }
   ],
   "source": [
    "from sklearn.metrics import multilabel_confusion_matrix\n",
    "\n",
    "mcm = multilabel_confusion_matrix(y_test[labels], y_pred[labels])\n",
    "print(mcm)"
   ]
  },
  {
   "cell_type": "markdown",
   "id": "7eea8de7",
   "metadata": {},
   "source": [
    "# Ensemble of Classifier Chains Approach\n",
    "\n",
    "1) Have Predictors $k_1, k_2$"
   ]
  },
  {
   "cell_type": "code",
   "execution_count": null,
   "id": "637e8e40",
   "metadata": {},
   "outputs": [],
   "source": []
  }
 ],
 "metadata": {
  "kernelspec": {
   "display_name": "base",
   "language": "python",
   "name": "python3"
  },
  "language_info": {
   "codemirror_mode": {
    "name": "ipython",
    "version": 3
   },
   "file_extension": ".py",
   "mimetype": "text/x-python",
   "name": "python",
   "nbconvert_exporter": "python",
   "pygments_lexer": "ipython3",
   "version": "3.12.7"
  }
 },
 "nbformat": 4,
 "nbformat_minor": 5
}
