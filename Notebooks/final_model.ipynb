{
 "cells": [
  {
   "cell_type": "code",
   "execution_count": 1,
   "id": "3d651023",
   "metadata": {},
   "outputs": [],
   "source": [
    "import numpy as np\n",
    "import matplotlib.pyplot as plt\n",
    "import pandas as pd\n",
    "\n",
    "from sklearn.model_selection import train_test_split\n",
    "import seaborn as sns\n",
    "\n",
    "import statsmodels.api as sm\n",
    "from statsmodels.stats.outliers_influence import variance_inflation_factor\n",
    "from sklearn.preprocessing import StandardScaler, OneHotEncoder\n",
    "from sklearn.decomposition import PCA, TruncatedSVD, SparsePCA\n",
    "from sklearn.impute import SimpleImputer\n",
    "from sklearn.pipeline import Pipeline\n",
    "from sklearn.compose import ColumnTransformer\n",
    "\n",
    "from sklearn.model_selection import train_test_split\n",
    "import xgboost as xgb\n",
    "from sklearn.metrics import classification_report, roc_auc_score, accuracy_score, hamming_loss, f1_score\n",
    "\n",
    "from sklearn.multioutput import MultiOutputClassifier\n",
    "from lightgbm import LGBMClassifier\n",
    "from xgboost import XGBClassifier\n",
    "from catboost import CatBoostClassifier"
   ]
  },
  {
   "cell_type": "code",
   "execution_count": 13,
   "id": "bd9318fe",
   "metadata": {},
   "outputs": [],
   "source": [
    "X_test = pd.read_csv('../Data/X_test_clean.csv')\n",
    "y_train = pd.read_csv('../Data/Flu_Shot_Learning_Predict_H1N1_and_Seasonal_Flu_Vaccines_-_Training_Labels.csv')\n",
    "X_train = pd.read_csv('../Data/X_train_clean.csv')\n",
    "X_test_orig = pd.read_csv('../Data/Flu_Shot_Learning_Predict_H1N1_and_Seasonal_Flu_Vaccines_-_Test_Features.csv')"
   ]
  },
  {
   "cell_type": "code",
   "execution_count": 14,
   "id": "1b6ed7df",
   "metadata": {},
   "outputs": [],
   "source": [
    "labels = ['h1n1_vaccine', 'seasonal_vaccine']\n"
   ]
  },
  {
   "cell_type": "code",
   "execution_count": 16,
   "id": "e5d6d0eb",
   "metadata": {},
   "outputs": [
    {
     "data": {
      "text/html": [
       "<div>\n",
       "<style scoped>\n",
       "    .dataframe tbody tr th:only-of-type {\n",
       "        vertical-align: middle;\n",
       "    }\n",
       "\n",
       "    .dataframe tbody tr th {\n",
       "        vertical-align: top;\n",
       "    }\n",
       "\n",
       "    .dataframe thead th {\n",
       "        text-align: right;\n",
       "    }\n",
       "</style>\n",
       "<table border=\"1\" class=\"dataframe\">\n",
       "  <thead>\n",
       "    <tr style=\"text-align: right;\">\n",
       "      <th></th>\n",
       "      <th>h1n1_vaccine</th>\n",
       "      <th>seasonal_vaccine</th>\n",
       "    </tr>\n",
       "  </thead>\n",
       "  <tbody>\n",
       "    <tr>\n",
       "      <th>0</th>\n",
       "      <td>0</td>\n",
       "      <td>0</td>\n",
       "    </tr>\n",
       "    <tr>\n",
       "      <th>1</th>\n",
       "      <td>0</td>\n",
       "      <td>0</td>\n",
       "    </tr>\n",
       "    <tr>\n",
       "      <th>2</th>\n",
       "      <td>1</td>\n",
       "      <td>1</td>\n",
       "    </tr>\n",
       "    <tr>\n",
       "      <th>3</th>\n",
       "      <td>0</td>\n",
       "      <td>1</td>\n",
       "    </tr>\n",
       "    <tr>\n",
       "      <th>4</th>\n",
       "      <td>0</td>\n",
       "      <td>0</td>\n",
       "    </tr>\n",
       "    <tr>\n",
       "      <th>...</th>\n",
       "      <td>...</td>\n",
       "      <td>...</td>\n",
       "    </tr>\n",
       "    <tr>\n",
       "      <th>26703</th>\n",
       "      <td>0</td>\n",
       "      <td>0</td>\n",
       "    </tr>\n",
       "    <tr>\n",
       "      <th>26704</th>\n",
       "      <td>0</td>\n",
       "      <td>0</td>\n",
       "    </tr>\n",
       "    <tr>\n",
       "      <th>26705</th>\n",
       "      <td>0</td>\n",
       "      <td>0</td>\n",
       "    </tr>\n",
       "    <tr>\n",
       "      <th>26706</th>\n",
       "      <td>0</td>\n",
       "      <td>0</td>\n",
       "    </tr>\n",
       "    <tr>\n",
       "      <th>26707</th>\n",
       "      <td>0</td>\n",
       "      <td>0</td>\n",
       "    </tr>\n",
       "  </tbody>\n",
       "</table>\n",
       "<p>26708 rows × 2 columns</p>\n",
       "</div>"
      ],
      "text/plain": [
       "       h1n1_vaccine  seasonal_vaccine\n",
       "0                 0                 0\n",
       "1                 0                 0\n",
       "2                 1                 1\n",
       "3                 0                 1\n",
       "4                 0                 0\n",
       "...             ...               ...\n",
       "26703             0                 0\n",
       "26704             0                 0\n",
       "26705             0                 0\n",
       "26706             0                 0\n",
       "26707             0                 0\n",
       "\n",
       "[26708 rows x 2 columns]"
      ]
     },
     "execution_count": 16,
     "metadata": {},
     "output_type": "execute_result"
    }
   ],
   "source": [
    "y_train_enc =  2 * y_train['h1n1_vaccine'].values + y_train['seasonal_vaccine'].values\n",
    "\n",
    "model = CatBoostClassifier(\n",
    "    loss_function='MultiClass',\n",
    "    iterations=1000,\n",
    "    learning_rate=0.1,\n",
    "    depth=6,\n",
    "    l2_leaf_reg = 9,\n",
    "    rsm=0.5,\n",
    "    bagging_temperature=3,\n",
    "    verbose=0\n",
    ")\n",
    "\n",
    "model.fit(X_train, y_train_enc)\n",
    "\n",
    "\n",
    "y_pred_enc = model.predict(X_test).astype(int)\n",
    "\n",
    "h1n1_pred   = y_pred_enc // 2\n",
    "seasonal_pred = y_pred_enc %  2\n",
    "\n",
    "y_pred = pd.DataFrame({\n",
    "    'h1n1_vaccine':   h1n1_pred.flatten(),\n",
    "    'seasonal_vaccine': seasonal_pred.flatten()\n",
    "}, index=X_test_orig.index) \n",
    "\n",
    "y_pred"
   ]
  },
  {
   "cell_type": "code",
   "execution_count": 29,
   "id": "980ccd40",
   "metadata": {},
   "outputs": [],
   "source": [
    "proba_list = model.predict_proba(X_test)\n",
    "P = np.vstack(proba_list) \n",
    "p_h1n1     = P[:, 2] + P[:, 3]\n",
    "p_seasonal = P[:, 1] + P[:, 3]\n",
    "\n",
    "y_pred_proba = pd.DataFrame({\n",
    "    'h1n1_vaccine':     np.round(p_h1n1,1),\n",
    "    'seasonal_vaccine': np.round(p_seasonal,1)\n",
    "}, index=np.arange(26707,53415))\n",
    "\n",
    "y_pred_proba.to_csv(\"../data/submission1.csv\")"
   ]
  },
  {
   "cell_type": "code",
   "execution_count": 23,
   "id": "742971a2",
   "metadata": {},
   "outputs": [
    {
     "data": {
      "text/plain": [
       "RangeIndex(start=0, stop=26708, step=1)"
      ]
     },
     "execution_count": 23,
     "metadata": {},
     "output_type": "execute_result"
    }
   ],
   "source": [
    "X_test_orig.index"
   ]
  },
  {
   "cell_type": "code",
   "execution_count": null,
   "id": "5176822e",
   "metadata": {},
   "outputs": [],
   "source": []
  }
 ],
 "metadata": {
  "kernelspec": {
   "display_name": "base",
   "language": "python",
   "name": "python3"
  },
  "language_info": {
   "codemirror_mode": {
    "name": "ipython",
    "version": 3
   },
   "file_extension": ".py",
   "mimetype": "text/x-python",
   "name": "python",
   "nbconvert_exporter": "python",
   "pygments_lexer": "ipython3",
   "version": "3.12.7"
  }
 },
 "nbformat": 4,
 "nbformat_minor": 5
}
